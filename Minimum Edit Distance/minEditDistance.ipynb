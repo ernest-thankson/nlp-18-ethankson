{
 "cells": [
  {
   "cell_type": "code",
   "execution_count": 2,
   "metadata": {},
   "outputs": [],
   "source": [
    "import sys"
   ]
  },
  {
   "cell_type": "code",
   "execution_count": 3,
   "metadata": {},
   "outputs": [],
   "source": [
    "def delCost(source, target, i, j):\n",
    "    if source[i-1] == target[j-1]:\n",
    "        return 0\n",
    "    else:\n",
    "        return 1\n",
    "def insCost(source, target, i, j):\n",
    "    if source[i-1] == target[j-1]:\n",
    "        return 0\n",
    "    else:\n",
    "        return 1\n",
    "def subCost(source, target, i, j):\n",
    "    if source[i-1] == target[j-1]:\n",
    "        return 0\n",
    "    else:\n",
    "        return 1"
   ]
  },
  {
   "cell_type": "code",
   "execution_count": 4,
   "metadata": {},
   "outputs": [],
   "source": [
    "def min_edit_distance(source, target):\n",
    "    n = len(source)\n",
    "    m = len(target)\n",
    "    distance = []\n",
    "    \n",
    "    for i in range(n+1):\n",
    "        distance.append([])\n",
    "        for j in range(m+1):\n",
    "            distance[i].append(None)\n",
    "            \n",
    "    \n",
    "    #Initialization: the zeroth row and column is the distance from the empty string\n",
    "    distance[0][0] = 0\n",
    "    for i in range(1, n+1):\n",
    "        distance[i][0] = distance[i-1][0]+1\n",
    "    for j in range(1, m+1):\n",
    "        distance[0][j] = distance[0][j-1]+1\n",
    "    \n",
    "    #Recurrence relation\n",
    "    for i in range(1,n+1):\n",
    "        for j in range(1,m+1):\n",
    "            distance[i][j] = min([distance[i-1][j]+delCost(source, target, i, j),\n",
    "                                  distance[i-1][j-1]+subCost(source, target, i, j),\n",
    "                                  distance[i][j-1]+insCost(source, target, i, j)])\n",
    "    \n",
    "    print(distance[n][m])\n",
    "\n"
   ]
  },
  {
   "cell_type": "code",
   "execution_count": 5,
   "metadata": {},
   "outputs": [
    {
     "name": "stdout",
     "output_type": "stream",
     "text": [
      "5\n"
     ]
    }
   ],
   "source": [
    "min_edit_distance(sys.argv[1],sys.argv[2])"
   ]
  },
  {
   "cell_type": "code",
   "execution_count": null,
   "metadata": {},
   "outputs": [],
   "source": []
  }
 ],
 "metadata": {
  "kernelspec": {
   "display_name": "Python 3",
   "language": "python",
   "name": "python3"
  },
  "language_info": {
   "codemirror_mode": {
    "name": "ipython",
    "version": 3
   },
   "file_extension": ".py",
   "mimetype": "text/x-python",
   "name": "python",
   "nbconvert_exporter": "python",
   "pygments_lexer": "ipython3",
   "version": "3.6.0"
  }
 },
 "nbformat": 4,
 "nbformat_minor": 2
}
