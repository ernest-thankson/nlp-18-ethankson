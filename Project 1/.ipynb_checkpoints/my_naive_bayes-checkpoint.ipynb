{
 "cells": [
  {
   "cell_type": "code",
   "execution_count": 1,
   "metadata": {},
   "outputs": [],
   "source": [
    "from nltk.tokenize import word_tokenize\n",
    "from math import *\n",
    "import sys"
   ]
  },
  {
   "cell_type": "code",
   "execution_count": 3,
   "metadata": {},
   "outputs": [
    {
     "ename": "FileNotFoundError",
     "evalue": "[Errno 2] No such file or directory: '-f'",
     "output_type": "error",
     "traceback": [
      "\u001b[1;31m---------------------------------------------------------------------------\u001b[0m",
      "\u001b[1;31mFileNotFoundError\u001b[0m                         Traceback (most recent call last)",
      "\u001b[1;32m<ipython-input-3-d8ff6609940f>\u001b[0m in \u001b[0;36m<module>\u001b[1;34m()\u001b[0m\n\u001b[0;32m     77\u001b[0m \u001b[1;33m\u001b[0m\u001b[0m\n\u001b[0;32m     78\u001b[0m \u001b[0mtestResults\u001b[0m \u001b[1;33m=\u001b[0m \u001b[0mtrainNaiveBayes\u001b[0m\u001b[1;33m(\u001b[0m\u001b[1;33m[\u001b[0m\u001b[1;34m\"sentiment/amazon_cells_labelled.txt\"\u001b[0m\u001b[1;33m,\u001b[0m \u001b[1;34m\"sentiment/imdb_labelled.txt\"\u001b[0m\u001b[1;33m,\u001b[0m \u001b[1;34m\"sentiment/yelp_labelled.txt\"\u001b[0m\u001b[1;33m]\u001b[0m\u001b[1;33m)\u001b[0m\u001b[1;33m\u001b[0m\u001b[0m\n\u001b[1;32m---> 79\u001b[1;33m \u001b[0mtestNaiveBayes\u001b[0m\u001b[1;33m(\u001b[0m\u001b[0msys\u001b[0m\u001b[1;33m.\u001b[0m\u001b[0margv\u001b[0m\u001b[1;33m[\u001b[0m\u001b[1;36m1\u001b[0m\u001b[1;33m]\u001b[0m\u001b[1;33m,\u001b[0m \u001b[0mtestResults\u001b[0m\u001b[1;33m[\u001b[0m\u001b[1;36m1\u001b[0m\u001b[1;33m]\u001b[0m\u001b[1;33m,\u001b[0m \u001b[0mtestResults\u001b[0m\u001b[1;33m[\u001b[0m\u001b[1;36m2\u001b[0m\u001b[1;33m]\u001b[0m\u001b[1;33m,\u001b[0m \u001b[0mtestResults\u001b[0m\u001b[1;33m[\u001b[0m\u001b[1;36m3\u001b[0m\u001b[1;33m]\u001b[0m\u001b[1;33m,\u001b[0m \u001b[0mtestResults\u001b[0m\u001b[1;33m[\u001b[0m\u001b[1;36m4\u001b[0m\u001b[1;33m]\u001b[0m\u001b[1;33m)\u001b[0m\u001b[1;33m\u001b[0m\u001b[0m\n\u001b[0m\u001b[0;32m     80\u001b[0m \u001b[1;33m\u001b[0m\u001b[0m\n",
      "\u001b[1;32m<ipython-input-3-d8ff6609940f>\u001b[0m in \u001b[0;36mtestNaiveBayes\u001b[1;34m(doc, V, likelihood, probNeg, probPos)\u001b[0m\n\u001b[0;32m     53\u001b[0m \u001b[1;33m\u001b[0m\u001b[0m\n\u001b[0;32m     54\u001b[0m \u001b[1;32mdef\u001b[0m \u001b[0mtestNaiveBayes\u001b[0m\u001b[1;33m(\u001b[0m\u001b[0mdoc\u001b[0m\u001b[1;33m,\u001b[0m \u001b[0mV\u001b[0m\u001b[1;33m,\u001b[0m \u001b[0mlikelihood\u001b[0m\u001b[1;33m,\u001b[0m \u001b[0mprobNeg\u001b[0m\u001b[1;33m,\u001b[0m \u001b[0mprobPos\u001b[0m\u001b[1;33m)\u001b[0m\u001b[1;33m:\u001b[0m\u001b[1;33m\u001b[0m\u001b[0m\n\u001b[1;32m---> 55\u001b[1;33m     \u001b[0mtestDoc\u001b[0m \u001b[1;33m=\u001b[0m \u001b[0mopen\u001b[0m\u001b[1;33m(\u001b[0m\u001b[0mdoc\u001b[0m\u001b[1;33m,\u001b[0m \u001b[1;34m\"r\"\u001b[0m\u001b[1;33m)\u001b[0m\u001b[1;33m\u001b[0m\u001b[0m\n\u001b[0m\u001b[0;32m     56\u001b[0m     \u001b[0mresultFile\u001b[0m \u001b[1;33m=\u001b[0m \u001b[0mopen\u001b[0m\u001b[1;33m(\u001b[0m\u001b[1;34m\"results_file.txt\"\u001b[0m\u001b[1;33m,\u001b[0m \u001b[1;34m\"w\"\u001b[0m\u001b[1;33m)\u001b[0m\u001b[1;33m\u001b[0m\u001b[0m\n\u001b[0;32m     57\u001b[0m     \u001b[1;32mfor\u001b[0m \u001b[0mline\u001b[0m \u001b[1;32min\u001b[0m \u001b[0mtestDoc\u001b[0m\u001b[1;33m:\u001b[0m\u001b[1;33m\u001b[0m\u001b[0m\n",
      "\u001b[1;31mFileNotFoundError\u001b[0m: [Errno 2] No such file or directory: '-f'"
     ]
    }
   ],
   "source": [
    "def extractWords(aline):\n",
    "    rawSentence = word_tokenize(aline)\n",
    "    sentence = []\n",
    "    for token in rawSentence:\n",
    "        if token not in \".,?!;:-(){}[]'\\\"\":\n",
    "            sentence.append(token)\n",
    "    return sentence\n",
    "\n",
    "\n",
    "\n",
    "def trainNaiveBayes(fileList):\n",
    "    V = []\n",
    "    D = {\"0\":[], \"1\":[]}\n",
    "    likelihood = {}\n",
    "    countPos = 0\n",
    "    countNeg = 0\n",
    "    docCount = 0\n",
    "    for afile in fileList:\n",
    "        file = open(afile, \"r\")\n",
    "        for line in file:\n",
    "            sentence = extractWords(line)\n",
    "            if len(sentence) == 0:\n",
    "                pass\n",
    "            else:\n",
    "                docCount += 1\n",
    "                sentiment = sentence.pop(-1)\n",
    "                if sentiment == \"0\":\n",
    "                    countNeg += 1\n",
    "                elif sentiment == \"1\":\n",
    "                    countPos += 1\n",
    "                for word in sentence:\n",
    "                    if word not in V:\n",
    "                        V.append(word.lower())\n",
    "                    D[sentiment].append(word.lower())\n",
    "    #Calculating P(c) terms\n",
    "    probNeg = log(countNeg/docCount)\n",
    "    probPos = log(countNeg/docCount)\n",
    "    \n",
    "    #Calculating P(w|c) terms\n",
    "    for word in V:\n",
    "        likelihood[word] = []\n",
    "        numNeg = D[\"0\"].count(word)\n",
    "        likelihood[word].append(log((numNeg+1)/(countNeg+len(V))))\n",
    "        \n",
    "        numPos = D[\"1\"].count(word)\n",
    "        likelihood[word].append(log((numPos+1)/(countPos+len(V))))\n",
    "    \n",
    "    return D, V, likelihood, probNeg, probPos\n",
    "\n",
    "\n",
    "\n",
    "\n",
    "\n",
    "def testNaiveBayes(doc, V, likelihood, probNeg, probPos):\n",
    "    testDoc = open(doc, \"r\")\n",
    "    resultFile = open(\"results_file.txt\", \"w\")\n",
    "    for line in testDoc:\n",
    "        tokens = extractWords(line.lower())\n",
    "        psum = [probNeg, probPos]\n",
    "        for word in tokens:\n",
    "            if word in V:\n",
    "                pGivNeg = likelihood[word][0]\n",
    "                pGivPos = likelihood[word][1]\n",
    "                psum[0] += pGivNeg\n",
    "                psum[1] += pGivPos\n",
    "        if psum[0] > psum[1]:\n",
    "            finalSent = \"0\"\n",
    "        else:\n",
    "            finalSent = \"1\"\n",
    "        resultFile.write(finalSent+\"\\n\")\n",
    "    testDoc.close()\n",
    "    resultFile.close()\n",
    "    \n",
    "  \n",
    "\n",
    "\n",
    "        \n",
    "testResults = trainNaiveBayes([\"sentiment/amazon_cells_labelled.txt\", \"sentiment/imdb_labelled.txt\", \"sentiment/yelp_labelled.txt\"])\n",
    "testNaiveBayes(sys.argv[1], testResults[1], testResults[2], testResults[3], testResults[4])\n",
    "\n",
    "\n"
   ]
  }
 ],
 "metadata": {
  "kernelspec": {
   "display_name": "Python 3",
   "language": "python",
   "name": "python3"
  },
  "language_info": {
   "codemirror_mode": {
    "name": "ipython",
    "version": 3
   },
   "file_extension": ".py",
   "mimetype": "text/x-python",
   "name": "python",
   "nbconvert_exporter": "python",
   "pygments_lexer": "ipython3",
   "version": "3.6.0"
  }
 },
 "nbformat": 4,
 "nbformat_minor": 2
}
